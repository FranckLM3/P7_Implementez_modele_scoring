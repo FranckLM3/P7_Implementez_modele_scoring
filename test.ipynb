{
 "cells": [
  {
   "cell_type": "code",
   "execution_count": 28,
   "metadata": {},
   "outputs": [],
   "source": [
    "import numpy as np\n",
    "import pandas as pd\n",
    "import pickle\n",
    "import re\n",
    "\n",
    "from lightgbm import LGBMClassifier\n",
    "\n",
    "\n",
    "class credit_scorer:\n",
    "    '''Create a object to implement credit scoring.\n",
    "    '''\n",
    "    def __init__(self, preprocess_path:str, model_path:str):\n",
    "        self.preprocessor = self.get_preprocess(preprocess_path)\n",
    "        self.clf = self.get_model(model_path)\n",
    "        self.scorer_meaning = {\n",
    "            False : 'No payement difficulties',\n",
    "            True : 'Payement difficulties'}\n",
    "    \n",
    "    def get_model(self, model_path:str) -> LGBMClassifier:\n",
    "        '''Open the pkl file which store the model.\n",
    "        Arguments: \n",
    "            model_path: Path model with pkl extension\n",
    "        \n",
    "        Returns:\n",
    "            model: Model object\n",
    "        '''\n",
    "\n",
    "        with open(model_path,\"rb\") as f:\n",
    "            clf = pickle.load(f)\n",
    "        \n",
    "        return clf\n",
    "    \n",
    "    def get_preprocess(self, preprocess_path:str):\n",
    "        '''Open the pkl file which store the scaler.\n",
    "        Arguments: \n",
    "            scaler_path: Path scaler with pkl extension\n",
    "        \n",
    "        Returns:\n",
    "            scaler: scaler object\n",
    "        '''\n",
    "\n",
    "        with open(preprocess_path,\"rb\") as f:\n",
    "            preprocessor = pickle.load(f)\n",
    "        \n",
    "        return preprocessor\n",
    "\n",
    "    def transfrom(self, client_id:dict):\n",
    "        '''Preprocess the features for prediction\n",
    "        \n",
    "        '''\n",
    "        try: \n",
    "            # Read data\n",
    "            df = pd.read_csv('data/application_train.csv',\n",
    "                            engine='pyarrow',\n",
    "                            verbose=False,\n",
    "                            encoding='ISO-8859-1',\n",
    "                            )\n",
    "            df = df[df['SK_ID_CURR'] == client_id['id']]\n",
    "\n",
    "            # NaN values for DAYS_EMPLOYED: 365.243 -> nan\n",
    "            df['DAYS_EMPLOYED'].replace(365243, np.nan, inplace= True)\n",
    "            # Some simple new features (percentages)\n",
    "            df['DAYS_EMPLOYED_PERC'] = df['DAYS_EMPLOYED'] / df['DAYS_BIRTH']\n",
    "            df['INCOME_CREDIT_PERC'] = df['AMT_INCOME_TOTAL'] / df['AMT_CREDIT']\n",
    "            df['INCOME_PER_PERSON'] = df['AMT_INCOME_TOTAL'] / df['CNT_FAM_MEMBERS']\n",
    "            df['ANNUITY_INCOME_PERC'] = df['AMT_ANNUITY'] / df['AMT_INCOME_TOTAL']\n",
    "            df['PAYMENT_RATE'] = df['AMT_ANNUITY'] / df['AMT_CREDIT']\n",
    "\n",
    "            # Categorical features with Binary encode (0 or 1; two categories)\n",
    "            for bin_feature in ['CODE_GENDER', 'FLAG_OWN_CAR', 'FLAG_OWN_REALTY']:\n",
    "                df[bin_feature], uniques = pd.factorize(df[bin_feature])\n",
    "\n",
    "            # Remove _MODE and _MEDI and FLAG_DOCUMENT features (EDA)\n",
    "            rm = []\n",
    "            num_col = df.select_dtypes(include=np.number).columns.to_list()\n",
    "            for col in df[num_col].columns:\n",
    "                if re.search('_MODE|_MEDI|FLAG_DOCUMENT_', col):\n",
    "                    rm.append(col)\n",
    "            # Keep Total AREA MODE as it is not repeated\n",
    "            rm.remove('TOTALAREA_MODE')\n",
    "\n",
    "            # Remove unique ID\n",
    "            rm.append('SK_ID_CURR')\n",
    "\n",
    "            df.drop(rm, axis=1, inplace=True)\n",
    "\n",
    "            X = df.drop('TARGET', axis=1)\n",
    "\n",
    "            X = self.preprocessor.transform(X)\n",
    "        except: \n",
    "            X = 'This client is not in the database...'\n",
    "        return X\n",
    "\n",
    "    def make_prediction(self, features)->str:\n",
    "        '''Predicts the credit score.\n",
    "        Argument:\n",
    "            features: list\n",
    "        \n",
    "        return:\n",
    "            cluster: str\n",
    "        '''\n",
    "        if isinstance(features, str):\n",
    "            score = 'This client is not in the database...'\n",
    "        else: \n",
    "            pred = self.clf.predict_proba(features)[:, 1]\n",
    "\n",
    "            pred = (pred >= 0.08)[0]\n",
    "\n",
    "            score = self.scorer_meaning[pred]\n",
    "\n",
    "        return score"
   ]
  },
  {
   "cell_type": "code",
   "execution_count": 29,
   "metadata": {},
   "outputs": [],
   "source": [
    "scorer = credit_scorer('preprocessor', 'classifier')"
   ]
  },
  {
   "cell_type": "code",
   "execution_count": 18,
   "metadata": {},
   "outputs": [],
   "source": [
    "from pydantic import BaseModel\n",
    "\n",
    "class Customer(BaseModel):\n",
    "    id: int\n",
    "\n",
    "m = Customer(id=100003)"
   ]
  },
  {
   "cell_type": "code",
   "execution_count": 21,
   "metadata": {},
   "outputs": [
    {
     "data": {
      "text/plain": [
       "100003"
      ]
     },
     "execution_count": 21,
     "metadata": {},
     "output_type": "execute_result"
    }
   ],
   "source": [
    "m.dict()['id']"
   ]
  },
  {
   "cell_type": "code",
   "execution_count": 30,
   "metadata": {},
   "outputs": [],
   "source": [
    "features = scorer.transfrom(m.dict())"
   ]
  },
  {
   "cell_type": "code",
   "execution_count": 32,
   "metadata": {},
   "outputs": [
    {
     "data": {
      "text/plain": [
       "'No payement difficulties'"
      ]
     },
     "execution_count": 32,
     "metadata": {},
     "output_type": "execute_result"
    }
   ],
   "source": [
    "scorer.make_prediction(features)"
   ]
  },
  {
   "cell_type": "code",
   "execution_count": 10,
   "metadata": {},
   "outputs": [
    {
     "data": {
      "text/plain": [
       "{'id': 3}"
      ]
     },
     "execution_count": 10,
     "metadata": {},
     "output_type": "execute_result"
    }
   ],
   "source": [
    "m.dict()"
   ]
  },
  {
   "cell_type": "code",
   "execution_count": 26,
   "metadata": {},
   "outputs": [],
   "source": [
    "df = pd.read_csv('data/application_train.csv',\n",
    "                            engine='pyarrow',\n",
    "                            verbose=False,\n",
    "                            encoding='ISO-8859-1',\n",
    "                            )\n",
    "df = df[df['SK_ID_CURR'] == m.dict()['id']]"
   ]
  },
  {
   "cell_type": "code",
   "execution_count": 27,
   "metadata": {},
   "outputs": [
    {
     "data": {
      "text/html": [
       "<div>\n",
       "<style scoped>\n",
       "    .dataframe tbody tr th:only-of-type {\n",
       "        vertical-align: middle;\n",
       "    }\n",
       "\n",
       "    .dataframe tbody tr th {\n",
       "        vertical-align: top;\n",
       "    }\n",
       "\n",
       "    .dataframe thead th {\n",
       "        text-align: right;\n",
       "    }\n",
       "</style>\n",
       "<table border=\"1\" class=\"dataframe\">\n",
       "  <thead>\n",
       "    <tr style=\"text-align: right;\">\n",
       "      <th></th>\n",
       "      <th>SK_ID_CURR</th>\n",
       "      <th>TARGET</th>\n",
       "      <th>NAME_CONTRACT_TYPE</th>\n",
       "      <th>CODE_GENDER</th>\n",
       "      <th>FLAG_OWN_CAR</th>\n",
       "      <th>FLAG_OWN_REALTY</th>\n",
       "      <th>CNT_CHILDREN</th>\n",
       "      <th>AMT_INCOME_TOTAL</th>\n",
       "      <th>AMT_CREDIT</th>\n",
       "      <th>AMT_ANNUITY</th>\n",
       "      <th>...</th>\n",
       "      <th>FLAG_DOCUMENT_18</th>\n",
       "      <th>FLAG_DOCUMENT_19</th>\n",
       "      <th>FLAG_DOCUMENT_20</th>\n",
       "      <th>FLAG_DOCUMENT_21</th>\n",
       "      <th>AMT_REQ_CREDIT_BUREAU_HOUR</th>\n",
       "      <th>AMT_REQ_CREDIT_BUREAU_DAY</th>\n",
       "      <th>AMT_REQ_CREDIT_BUREAU_WEEK</th>\n",
       "      <th>AMT_REQ_CREDIT_BUREAU_MON</th>\n",
       "      <th>AMT_REQ_CREDIT_BUREAU_QRT</th>\n",
       "      <th>AMT_REQ_CREDIT_BUREAU_YEAR</th>\n",
       "    </tr>\n",
       "  </thead>\n",
       "  <tbody>\n",
       "    <tr>\n",
       "      <th>1</th>\n",
       "      <td>100003</td>\n",
       "      <td>0</td>\n",
       "      <td>Cash loans</td>\n",
       "      <td>F</td>\n",
       "      <td>N</td>\n",
       "      <td>N</td>\n",
       "      <td>0</td>\n",
       "      <td>270000.0</td>\n",
       "      <td>1293502.5</td>\n",
       "      <td>35698.5</td>\n",
       "      <td>...</td>\n",
       "      <td>0</td>\n",
       "      <td>0</td>\n",
       "      <td>0</td>\n",
       "      <td>0</td>\n",
       "      <td>0.0</td>\n",
       "      <td>0.0</td>\n",
       "      <td>0.0</td>\n",
       "      <td>0.0</td>\n",
       "      <td>0.0</td>\n",
       "      <td>0.0</td>\n",
       "    </tr>\n",
       "  </tbody>\n",
       "</table>\n",
       "<p>1 rows × 122 columns</p>\n",
       "</div>"
      ],
      "text/plain": [
       "   SK_ID_CURR  TARGET NAME_CONTRACT_TYPE CODE_GENDER FLAG_OWN_CAR  \\\n",
       "1      100003       0         Cash loans           F            N   \n",
       "\n",
       "  FLAG_OWN_REALTY  CNT_CHILDREN  AMT_INCOME_TOTAL  AMT_CREDIT  AMT_ANNUITY  \\\n",
       "1               N             0          270000.0   1293502.5      35698.5   \n",
       "\n",
       "   ...  FLAG_DOCUMENT_18 FLAG_DOCUMENT_19 FLAG_DOCUMENT_20 FLAG_DOCUMENT_21  \\\n",
       "1  ...                 0                0                0                0   \n",
       "\n",
       "  AMT_REQ_CREDIT_BUREAU_HOUR AMT_REQ_CREDIT_BUREAU_DAY  \\\n",
       "1                        0.0                       0.0   \n",
       "\n",
       "   AMT_REQ_CREDIT_BUREAU_WEEK  AMT_REQ_CREDIT_BUREAU_MON  \\\n",
       "1                         0.0                        0.0   \n",
       "\n",
       "   AMT_REQ_CREDIT_BUREAU_QRT  AMT_REQ_CREDIT_BUREAU_YEAR  \n",
       "1                        0.0                         0.0  \n",
       "\n",
       "[1 rows x 122 columns]"
      ]
     },
     "execution_count": 27,
     "metadata": {},
     "output_type": "execute_result"
    }
   ],
   "source": [
    "df"
   ]
  },
  {
   "cell_type": "code",
   "execution_count": null,
   "metadata": {},
   "outputs": [],
   "source": []
  }
 ],
 "metadata": {
  "kernelspec": {
   "display_name": "datascience_devenv",
   "language": "python",
   "name": "datascience_devenv"
  },
  "language_info": {
   "codemirror_mode": {
    "name": "ipython",
    "version": 3
   },
   "file_extension": ".py",
   "mimetype": "text/x-python",
   "name": "python",
   "nbconvert_exporter": "python",
   "pygments_lexer": "ipython3",
   "version": "3.9.7"
  },
  "orig_nbformat": 4
 },
 "nbformat": 4,
 "nbformat_minor": 2
}
